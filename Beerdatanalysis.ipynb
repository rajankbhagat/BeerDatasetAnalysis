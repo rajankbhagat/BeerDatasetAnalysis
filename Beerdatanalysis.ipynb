{
 "cells": [
  {
   "cell_type": "markdown",
   "metadata": {},
   "source": [
    "### Beer dataset , using python , pandas,matplotlib etc to get insights on the data and desired results.\n",
    "#### Step 1 is to import all the neccesary packages."
   ]
  },
  {
   "cell_type": "code",
   "execution_count": 90,
   "metadata": {},
   "outputs": [
    {
     "data": {
      "text/html": [
       "        <script type=\"text/javascript\">\n",
       "        window.PlotlyConfig = {MathJaxConfig: 'local'};\n",
       "        if (window.MathJax) {MathJax.Hub.Config({SVG: {font: \"STIX-Web\"}});}\n",
       "        if (typeof require !== 'undefined') {\n",
       "        require.undef(\"plotly\");\n",
       "        requirejs.config({\n",
       "            paths: {\n",
       "                'plotly': ['https://cdn.plot.ly/plotly-latest.min']\n",
       "            }\n",
       "        });\n",
       "        require(['plotly'], function(Plotly) {\n",
       "            window._Plotly = Plotly;\n",
       "        });\n",
       "        }\n",
       "        </script>\n",
       "        "
      ]
     },
     "metadata": {},
     "output_type": "display_data"
    }
   ],
   "source": [
    "from PIL import Image\n",
    "import requests\n",
    "from io import BytesIO\n",
    "import matplotlib.pyplot as plt\n",
    "import numpy as np\n",
    "import pandas as pd\n",
    "import warnings\n",
    "from bs4 import BeautifulSoup\n",
    "from nltk.corpus import stopwords\n",
    "from nltk.tokenize import word_tokenize\n",
    "import nltk\n",
    "import math\n",
    "import time\n",
    "import re\n",
    "import os\n",
    "import seaborn as sns\n",
    "from collections import Counter\n",
    "from sklearn.feature_extraction.text import CountVectorizer\n",
    "from sklearn.feature_extraction.text import TfidfVectorizer\n",
    "from sklearn.metrics.pairwise import cosine_similarity  \n",
    "from sklearn.metrics import pairwise_distances\n",
    "from matplotlib import gridspec\n",
    "from scipy.sparse import hstack\n",
    "import plotly\n",
    "import plotly.figure_factory as ff\n",
    "from plotly.graph_objs import Scatter, Layout\n",
    "\n",
    "plotly.offline.init_notebook_mode(connected=True)\n",
    "warnings.filterwarnings(\"ignore\")"
   ]
  },
  {
   "cell_type": "markdown",
   "metadata": {},
   "source": [
    "#### Importing the file from my local system"
   ]
  },
  {
   "cell_type": "code",
   "execution_count": 192,
   "metadata": {},
   "outputs": [],
   "source": [
    "import pandas as pd\n",
    "df=pd.read_csv(r\"D:\\project\\BeerDataScienceProject.csv\",encoding = 'cp1252')\n",
    "#df.head(10)"
   ]
  },
  {
   "cell_type": "markdown",
   "metadata": {},
   "source": [
    "### Data Exploration , checking for shape,datatypes,Null values"
   ]
  },
  {
   "cell_type": "code",
   "execution_count": 193,
   "metadata": {},
   "outputs": [
    {
     "data": {
      "text/plain": [
       "(528870, 13)"
      ]
     },
     "execution_count": 193,
     "metadata": {},
     "output_type": "execute_result"
    }
   ],
   "source": [
    "df.shape"
   ]
  },
  {
   "cell_type": "code",
   "execution_count": 196,
   "metadata": {},
   "outputs": [
    {
     "data": {
      "text/plain": [
       "beer_ABV              float64\n",
       "beer_beerId             int64\n",
       "beer_brewerId           int64\n",
       "beer_name              object\n",
       "beer_style             object\n",
       "review_appearance     float64\n",
       "review_palette        float64\n",
       "review_overall        float64\n",
       "review_taste          float64\n",
       "review_profileName     object\n",
       "review_aroma          float64\n",
       "review_text            object\n",
       "review_time             int64\n",
       "dtype: object"
      ]
     },
     "execution_count": 196,
     "metadata": {},
     "output_type": "execute_result"
    }
   ],
   "source": [
    "df.dtypes"
   ]
  },
  {
   "cell_type": "code",
   "execution_count": 194,
   "metadata": {},
   "outputs": [
    {
     "name": "stdout",
     "output_type": "stream",
     "text": [
      "<class 'pandas.core.frame.DataFrame'>\n",
      "RangeIndex: 528870 entries, 0 to 528869\n",
      "Data columns (total 13 columns):\n",
      "beer_ABV              508590 non-null float64\n",
      "beer_beerId           528870 non-null int64\n",
      "beer_brewerId         528870 non-null int64\n",
      "beer_name             528870 non-null object\n",
      "beer_style            528870 non-null object\n",
      "review_appearance     528870 non-null float64\n",
      "review_palette        528870 non-null float64\n",
      "review_overall        528870 non-null float64\n",
      "review_taste          528870 non-null float64\n",
      "review_profileName    528755 non-null object\n",
      "review_aroma          528870 non-null float64\n",
      "review_text           528751 non-null object\n",
      "review_time           528870 non-null int64\n",
      "dtypes: float64(6), int64(3), object(4)\n",
      "memory usage: 52.5+ MB\n"
     ]
    }
   ],
   "source": [
    "df.info()\n",
    "# this function provides a fair overview of the dataset"
   ]
  },
  {
   "cell_type": "code",
   "execution_count": 23,
   "metadata": {},
   "outputs": [],
   "source": [
    "#df.head(5)"
   ]
  },
  {
   "cell_type": "markdown",
   "metadata": {},
   "source": [
    "#### checking if the dataset have NULL Values,."
   ]
  },
  {
   "cell_type": "code",
   "execution_count": 197,
   "metadata": {},
   "outputs": [
    {
     "data": {
      "text/plain": [
       "beer_ABV               True\n",
       "beer_beerId           False\n",
       "beer_brewerId         False\n",
       "beer_name             False\n",
       "beer_style            False\n",
       "review_appearance     False\n",
       "review_palette        False\n",
       "review_overall        False\n",
       "review_taste          False\n",
       "review_profileName     True\n",
       "review_aroma          False\n",
       "review_text            True\n",
       "review_time           False\n",
       "dtype: bool"
      ]
     },
     "execution_count": 197,
     "metadata": {},
     "output_type": "execute_result"
    }
   ],
   "source": [
    "pd.isnull(df).any()"
   ]
  },
  {
   "cell_type": "markdown",
   "metadata": {},
   "source": [
    "#### Exploring the \"beer_ABV\" column , The above code implied that beer_ABV has NUll values."
   ]
  },
  {
   "cell_type": "code",
   "execution_count": 198,
   "metadata": {},
   "outputs": [
    {
     "data": {
      "text/plain": [
       "count    508590.000000\n",
       "mean          7.017442\n",
       "std           2.204460\n",
       "min           0.010000\n",
       "25%           5.300000\n",
       "50%           6.500000\n",
       "75%           8.500000\n",
       "max          57.700000\n",
       "Name: beer_ABV, dtype: float64"
      ]
     },
     "execution_count": 198,
     "metadata": {},
     "output_type": "execute_result"
    }
   ],
   "source": [
    "df['beer_ABV'].describe()\n",
    "#df.shape"
   ]
  },
  {
   "cell_type": "markdown",
   "metadata": {},
   "source": [
    "#### Either we can replace the NULL Values by 0 or by mean , i choose to replace these NUll Values by mean as it would make more sense in doing so."
   ]
  },
  {
   "cell_type": "code",
   "execution_count": 199,
   "metadata": {},
   "outputs": [],
   "source": [
    "df['beer_ABV'].fillna(value=df['beer_ABV'].mean(),inplace = True)"
   ]
  },
  {
   "cell_type": "markdown",
   "metadata": {},
   "source": [
    "#### Question : 1 is to Rank top 3 Breweries which produce the strongest beers?\n",
    "#### My approach to this question was 1. To explore the dataset 2. check and replace for null values if any 3.Grouping and aggregation to acheive the desired output."
   ]
  },
  {
   "cell_type": "code",
   "execution_count": 201,
   "metadata": {},
   "outputs": [
    {
     "data": {
      "text/plain": [
       "beer_brewerId\n",
       "6513     57.7\n",
       "35       27.0\n",
       "2958     19.5\n",
       "16866    19.5\n",
       "18796    19.2\n",
       "Name: beer_ABV, dtype: float64"
      ]
     },
     "execution_count": 201,
     "metadata": {},
     "output_type": "execute_result"
    }
   ],
   "source": [
    "grouped = df.groupby(['beer_brewerId'])['beer_ABV'].max().sort_values(ascending=False,na_position='first')[:5]\n",
    "grouped"
   ]
  },
  {
   "cell_type": "markdown",
   "metadata": {},
   "source": [
    "#### So the solution is : \n",
    "#### BreweryId : 6513 (1st) \n",
    "#### BreweryId : 35 (2nd)\n",
    "#### BreweryId : 2958 ( 3rd) and Also BreweryId : 16866(3rd)\n",
    "##### To be sure of my result , i ran the below commented code , just to have a elaborate picture."
   ]
  },
  {
   "cell_type": "code",
   "execution_count": 202,
   "metadata": {},
   "outputs": [],
   "source": [
    "#f_beer=df.groupby(['beer_brewerId','beer_ABV']).count()\n",
    "#f_beer.sort_values('beer_ABV',ascending=False)\n"
   ]
  },
  {
   "cell_type": "markdown",
   "metadata": {},
   "source": [
    "#### Q2.Which year did beers enjoy the highest ratings? \n",
    "#### challenge here is that time is in unix epochs so we need to convert it into standard date format and then apply aggregate funstion to get the desired outcome.\n"
   ]
  },
  {
   "cell_type": "code",
   "execution_count": 206,
   "metadata": {},
   "outputs": [],
   "source": [
    "df['unixtime']=pd.to_datetime(df['review_time'].astype(int), unit='s')"
   ]
  },
  {
   "cell_type": "markdown",
   "metadata": {},
   "source": [
    "#### Extracting 'year' from the unixtime column so created."
   ]
  },
  {
   "cell_type": "code",
   "execution_count": 207,
   "metadata": {},
   "outputs": [],
   "source": [
    "df['year']=df['unixtime'].dt.year"
   ]
  },
  {
   "cell_type": "code",
   "execution_count": 208,
   "metadata": {},
   "outputs": [
    {
     "data": {
      "text/html": [
       "<div>\n",
       "<style scoped>\n",
       "    .dataframe tbody tr th:only-of-type {\n",
       "        vertical-align: middle;\n",
       "    }\n",
       "\n",
       "    .dataframe tbody tr th {\n",
       "        vertical-align: top;\n",
       "    }\n",
       "\n",
       "    .dataframe thead th {\n",
       "        text-align: right;\n",
       "    }\n",
       "</style>\n",
       "<table border=\"1\" class=\"dataframe\">\n",
       "  <thead>\n",
       "    <tr style=\"text-align: right;\">\n",
       "      <th></th>\n",
       "      <th>beer_ABV</th>\n",
       "      <th>beer_beerId</th>\n",
       "      <th>beer_brewerId</th>\n",
       "      <th>beer_name</th>\n",
       "      <th>beer_style</th>\n",
       "      <th>review_appearance</th>\n",
       "      <th>review_palette</th>\n",
       "      <th>review_overall</th>\n",
       "      <th>review_taste</th>\n",
       "      <th>review_profileName</th>\n",
       "      <th>review_aroma</th>\n",
       "      <th>review_text</th>\n",
       "      <th>review_time</th>\n",
       "      <th>unixtime</th>\n",
       "      <th>year</th>\n",
       "    </tr>\n",
       "  </thead>\n",
       "  <tbody>\n",
       "    <tr>\n",
       "      <th>0</th>\n",
       "      <td>5.0</td>\n",
       "      <td>47986</td>\n",
       "      <td>10325</td>\n",
       "      <td>Sausa Weizen</td>\n",
       "      <td>Hefeweizen</td>\n",
       "      <td>2.5</td>\n",
       "      <td>2.0</td>\n",
       "      <td>1.5</td>\n",
       "      <td>1.5</td>\n",
       "      <td>stcules</td>\n",
       "      <td>1.5</td>\n",
       "      <td>A lot of foam. But a lot. In the smell some ba...</td>\n",
       "      <td>1234817823</td>\n",
       "      <td>2009-02-16 20:57:03</td>\n",
       "      <td>2009</td>\n",
       "    </tr>\n",
       "    <tr>\n",
       "      <th>1</th>\n",
       "      <td>6.2</td>\n",
       "      <td>48213</td>\n",
       "      <td>10325</td>\n",
       "      <td>Red Moon</td>\n",
       "      <td>English Strong Ale</td>\n",
       "      <td>3.0</td>\n",
       "      <td>2.5</td>\n",
       "      <td>3.0</td>\n",
       "      <td>3.0</td>\n",
       "      <td>stcules</td>\n",
       "      <td>3.0</td>\n",
       "      <td>Dark red color, light beige foam, average. In ...</td>\n",
       "      <td>1235915097</td>\n",
       "      <td>2009-03-01 13:44:57</td>\n",
       "      <td>2009</td>\n",
       "    </tr>\n",
       "    <tr>\n",
       "      <th>2</th>\n",
       "      <td>6.5</td>\n",
       "      <td>48215</td>\n",
       "      <td>10325</td>\n",
       "      <td>Black Horse Black Beer</td>\n",
       "      <td>Foreign / Export Stout</td>\n",
       "      <td>3.0</td>\n",
       "      <td>2.5</td>\n",
       "      <td>3.0</td>\n",
       "      <td>3.0</td>\n",
       "      <td>stcules</td>\n",
       "      <td>3.0</td>\n",
       "      <td>Almost totally black. Beige foam, quite compac...</td>\n",
       "      <td>1235916604</td>\n",
       "      <td>2009-03-01 14:10:04</td>\n",
       "      <td>2009</td>\n",
       "    </tr>\n",
       "  </tbody>\n",
       "</table>\n",
       "</div>"
      ],
      "text/plain": [
       "   beer_ABV  beer_beerId  beer_brewerId               beer_name  \\\n",
       "0       5.0        47986          10325            Sausa Weizen   \n",
       "1       6.2        48213          10325                Red Moon   \n",
       "2       6.5        48215          10325  Black Horse Black Beer   \n",
       "\n",
       "               beer_style  review_appearance  review_palette  review_overall  \\\n",
       "0              Hefeweizen                2.5             2.0             1.5   \n",
       "1      English Strong Ale                3.0             2.5             3.0   \n",
       "2  Foreign / Export Stout                3.0             2.5             3.0   \n",
       "\n",
       "   review_taste review_profileName  review_aroma  \\\n",
       "0           1.5            stcules           1.5   \n",
       "1           3.0            stcules           3.0   \n",
       "2           3.0            stcules           3.0   \n",
       "\n",
       "                                         review_text  review_time  \\\n",
       "0  A lot of foam. But a lot. In the smell some ba...   1234817823   \n",
       "1  Dark red color, light beige foam, average. In ...   1235915097   \n",
       "2  Almost totally black. Beige foam, quite compac...   1235916604   \n",
       "\n",
       "             unixtime  year  \n",
       "0 2009-02-16 20:57:03  2009  \n",
       "1 2009-03-01 13:44:57  2009  \n",
       "2 2009-03-01 14:10:04  2009  "
      ]
     },
     "execution_count": 208,
     "metadata": {},
     "output_type": "execute_result"
    }
   ],
   "source": [
    "df.head(3)\n",
    "# just to check the columns"
   ]
  },
  {
   "cell_type": "code",
   "execution_count": 209,
   "metadata": {},
   "outputs": [],
   "source": [
    "beer_hr = df.groupby(['year'])['review_overall'].agg({\"max\",\"count\"}).round(2)"
   ]
  },
  {
   "cell_type": "code",
   "execution_count": 210,
   "metadata": {},
   "outputs": [
    {
     "data": {
      "text/html": [
       "<div>\n",
       "<style scoped>\n",
       "    .dataframe tbody tr th:only-of-type {\n",
       "        vertical-align: middle;\n",
       "    }\n",
       "\n",
       "    .dataframe tbody tr th {\n",
       "        vertical-align: top;\n",
       "    }\n",
       "\n",
       "    .dataframe thead th {\n",
       "        text-align: right;\n",
       "    }\n",
       "</style>\n",
       "<table border=\"1\" class=\"dataframe\">\n",
       "  <thead>\n",
       "    <tr style=\"text-align: right;\">\n",
       "      <th></th>\n",
       "      <th>max</th>\n",
       "      <th>count</th>\n",
       "    </tr>\n",
       "    <tr>\n",
       "      <th>year</th>\n",
       "      <th></th>\n",
       "      <th></th>\n",
       "    </tr>\n",
       "  </thead>\n",
       "  <tbody>\n",
       "    <tr>\n",
       "      <th>1998</th>\n",
       "      <td>5.0</td>\n",
       "      <td>23</td>\n",
       "    </tr>\n",
       "    <tr>\n",
       "      <th>1999</th>\n",
       "      <td>4.5</td>\n",
       "      <td>25</td>\n",
       "    </tr>\n",
       "    <tr>\n",
       "      <th>2000</th>\n",
       "      <td>5.0</td>\n",
       "      <td>33</td>\n",
       "    </tr>\n",
       "    <tr>\n",
       "      <th>2001</th>\n",
       "      <td>5.0</td>\n",
       "      <td>602</td>\n",
       "    </tr>\n",
       "    <tr>\n",
       "      <th>2002</th>\n",
       "      <td>5.0</td>\n",
       "      <td>7581</td>\n",
       "    </tr>\n",
       "    <tr>\n",
       "      <th>2003</th>\n",
       "      <td>5.0</td>\n",
       "      <td>18187</td>\n",
       "    </tr>\n",
       "    <tr>\n",
       "      <th>2004</th>\n",
       "      <td>5.0</td>\n",
       "      <td>22905</td>\n",
       "    </tr>\n",
       "    <tr>\n",
       "      <th>2005</th>\n",
       "      <td>5.0</td>\n",
       "      <td>29433</td>\n",
       "    </tr>\n",
       "    <tr>\n",
       "      <th>2006</th>\n",
       "      <td>5.0</td>\n",
       "      <td>43083</td>\n",
       "    </tr>\n",
       "    <tr>\n",
       "      <th>2007</th>\n",
       "      <td>5.0</td>\n",
       "      <td>46514</td>\n",
       "    </tr>\n",
       "    <tr>\n",
       "      <th>2008</th>\n",
       "      <td>5.0</td>\n",
       "      <td>69080</td>\n",
       "    </tr>\n",
       "    <tr>\n",
       "      <th>2009</th>\n",
       "      <td>5.0</td>\n",
       "      <td>83578</td>\n",
       "    </tr>\n",
       "    <tr>\n",
       "      <th>2010</th>\n",
       "      <td>5.0</td>\n",
       "      <td>93810</td>\n",
       "    </tr>\n",
       "    <tr>\n",
       "      <th>2011</th>\n",
       "      <td>5.0</td>\n",
       "      <td>110836</td>\n",
       "    </tr>\n",
       "    <tr>\n",
       "      <th>2012</th>\n",
       "      <td>5.0</td>\n",
       "      <td>3180</td>\n",
       "    </tr>\n",
       "  </tbody>\n",
       "</table>\n",
       "</div>"
      ],
      "text/plain": [
       "      max   count\n",
       "year             \n",
       "1998  5.0      23\n",
       "1999  4.5      25\n",
       "2000  5.0      33\n",
       "2001  5.0     602\n",
       "2002  5.0    7581\n",
       "2003  5.0   18187\n",
       "2004  5.0   22905\n",
       "2005  5.0   29433\n",
       "2006  5.0   43083\n",
       "2007  5.0   46514\n",
       "2008  5.0   69080\n",
       "2009  5.0   83578\n",
       "2010  5.0   93810\n",
       "2011  5.0  110836\n",
       "2012  5.0    3180"
      ]
     },
     "execution_count": 210,
     "metadata": {},
     "output_type": "execute_result"
    }
   ],
   "source": [
    "beer_hr"
   ]
  },
  {
   "cell_type": "markdown",
   "metadata": {},
   "source": [
    "#### The year when Beers enjoyed highest rating was 2011."
   ]
  },
  {
   "cell_type": "markdown",
   "metadata": {},
   "source": [
    "### Q3.Based on the user’s ratings which factors are important among taste, aroma, appearance, and palette?"
   ]
  },
  {
   "cell_type": "markdown",
   "metadata": {},
   "source": [
    "### Step1: selecting the dependent and independent columns and creating new dataframe."
   ]
  },
  {
   "cell_type": "code",
   "execution_count": 211,
   "metadata": {},
   "outputs": [
    {
     "data": {
      "text/html": [
       "<div>\n",
       "<style scoped>\n",
       "    .dataframe tbody tr th:only-of-type {\n",
       "        vertical-align: middle;\n",
       "    }\n",
       "\n",
       "    .dataframe tbody tr th {\n",
       "        vertical-align: top;\n",
       "    }\n",
       "\n",
       "    .dataframe thead th {\n",
       "        text-align: right;\n",
       "    }\n",
       "</style>\n",
       "<table border=\"1\" class=\"dataframe\">\n",
       "  <thead>\n",
       "    <tr style=\"text-align: right;\">\n",
       "      <th></th>\n",
       "      <th>review_appearance</th>\n",
       "      <th>review_palette</th>\n",
       "      <th>review_overall</th>\n",
       "      <th>review_taste</th>\n",
       "      <th>review_aroma</th>\n",
       "    </tr>\n",
       "  </thead>\n",
       "  <tbody>\n",
       "    <tr>\n",
       "      <th>0</th>\n",
       "      <td>2.5</td>\n",
       "      <td>2.0</td>\n",
       "      <td>1.5</td>\n",
       "      <td>1.5</td>\n",
       "      <td>1.5</td>\n",
       "    </tr>\n",
       "    <tr>\n",
       "      <th>1</th>\n",
       "      <td>3.0</td>\n",
       "      <td>2.5</td>\n",
       "      <td>3.0</td>\n",
       "      <td>3.0</td>\n",
       "      <td>3.0</td>\n",
       "    </tr>\n",
       "    <tr>\n",
       "      <th>2</th>\n",
       "      <td>3.0</td>\n",
       "      <td>2.5</td>\n",
       "      <td>3.0</td>\n",
       "      <td>3.0</td>\n",
       "      <td>3.0</td>\n",
       "    </tr>\n",
       "    <tr>\n",
       "      <th>3</th>\n",
       "      <td>3.5</td>\n",
       "      <td>3.0</td>\n",
       "      <td>3.0</td>\n",
       "      <td>2.5</td>\n",
       "      <td>3.0</td>\n",
       "    </tr>\n",
       "    <tr>\n",
       "      <th>4</th>\n",
       "      <td>4.0</td>\n",
       "      <td>4.5</td>\n",
       "      <td>4.0</td>\n",
       "      <td>4.0</td>\n",
       "      <td>4.5</td>\n",
       "    </tr>\n",
       "  </tbody>\n",
       "</table>\n",
       "</div>"
      ],
      "text/plain": [
       "   review_appearance  review_palette  review_overall  review_taste  \\\n",
       "0                2.5             2.0             1.5           1.5   \n",
       "1                3.0             2.5             3.0           3.0   \n",
       "2                3.0             2.5             3.0           3.0   \n",
       "3                3.5             3.0             3.0           2.5   \n",
       "4                4.0             4.5             4.0           4.0   \n",
       "\n",
       "   review_aroma  \n",
       "0           1.5  \n",
       "1           3.0  \n",
       "2           3.0  \n",
       "3           3.0  \n",
       "4           4.5  "
      ]
     },
     "execution_count": 211,
     "metadata": {},
     "output_type": "execute_result"
    }
   ],
   "source": [
    "\n",
    "rev_pattern = '[review_a+]+'\n",
    "review_cols = df.columns.str.match(rev_pattern).tolist()\n",
    "review_df = df.loc[:, review_cols]\n",
    "review_df.drop([ 'review_profileName','review_text','review_time'], axis=1, inplace=True)\n",
    "review_df.head(5)\n"
   ]
  },
  {
   "cell_type": "markdown",
   "metadata": {},
   "source": [
    "### Plotting independent variables in comparison to the dependent variable using seaborn"
   ]
  },
  {
   "cell_type": "code",
   "execution_count": 225,
   "metadata": {},
   "outputs": [
    {
     "data": {
      "text/plain": [
       "<seaborn.axisgrid.PairGrid at 0x2aaddd0d160>"
      ]
     },
     "execution_count": 225,
     "metadata": {},
     "output_type": "execute_result"
    },
    {
     "data": {
      "image/png": "[encoded data removed]",
      "text/plain": [
       "<Figure size 720x180 with 4 Axes>"
      ]
     },
     "metadata": {},
     "output_type": "display_data"
    }
   ],
   "source": [
    "import seaborn as sns\n",
    "\n",
    "sns.pairplot(data=review_df,\n",
    "                  y_vars=['review_overall'],\n",
    "                  x_vars=['review_appearance', 'review_palette', 'review_taste','review_aroma'])"
   ]
  },
  {
   "cell_type": "markdown",
   "metadata": {},
   "source": [
    "### plotting gives a fair idea but not the exact winner in this case , review_taste and review_aroma are very closely related with review_overall according to the above plot , so trying different alternatives"
   ]
  },
  {
   "cell_type": "code",
   "execution_count": 230,
   "metadata": {},
   "outputs": [],
   "source": [
    "corr = review_df.corr(method = 'pearson')\n",
    "\n",
    "# plot the heatmap\n",
    "#sns.heatmap(corr, \n",
    "        #xticklabels=corr.columns,\n",
    "        #yticklabels=corr.columns)"
   ]
  },
  {
   "cell_type": "markdown",
   "metadata": {},
   "source": [
    "#### plotting heatmap above , but to look at the exact numbers , we need to check the pearson coefficient values"
   ]
  },
  {
   "cell_type": "code",
   "execution_count": 231,
   "metadata": {},
   "outputs": [
    {
     "data": {
      "text/html": [
       "<div>\n",
       "<style scoped>\n",
       "    .dataframe tbody tr th:only-of-type {\n",
       "        vertical-align: middle;\n",
       "    }\n",
       "\n",
       "    .dataframe tbody tr th {\n",
       "        vertical-align: top;\n",
       "    }\n",
       "\n",
       "    .dataframe thead th {\n",
       "        text-align: right;\n",
       "    }\n",
       "</style>\n",
       "<table border=\"1\" class=\"dataframe\">\n",
       "  <thead>\n",
       "    <tr style=\"text-align: right;\">\n",
       "      <th></th>\n",
       "      <th>review_appearance</th>\n",
       "      <th>review_palette</th>\n",
       "      <th>review_overall</th>\n",
       "      <th>review_taste</th>\n",
       "      <th>review_aroma</th>\n",
       "    </tr>\n",
       "  </thead>\n",
       "  <tbody>\n",
       "    <tr>\n",
       "      <th>review_appearance</th>\n",
       "      <td>1.000000</td>\n",
       "      <td>0.547691</td>\n",
       "      <td>0.486687</td>\n",
       "      <td>0.554775</td>\n",
       "      <td>0.534244</td>\n",
       "    </tr>\n",
       "    <tr>\n",
       "      <th>review_palette</th>\n",
       "      <td>0.547691</td>\n",
       "      <td>1.000000</td>\n",
       "      <td>0.601971</td>\n",
       "      <td>0.604271</td>\n",
       "      <td>0.706156</td>\n",
       "    </tr>\n",
       "    <tr>\n",
       "      <th>review_overall</th>\n",
       "      <td>0.486687</td>\n",
       "      <td>0.601971</td>\n",
       "      <td>1.000000</td>\n",
       "      <td>0.692454</td>\n",
       "      <td>0.783002</td>\n",
       "    </tr>\n",
       "    <tr>\n",
       "      <th>review_taste</th>\n",
       "      <td>0.554775</td>\n",
       "      <td>0.604271</td>\n",
       "      <td>0.692454</td>\n",
       "      <td>1.000000</td>\n",
       "      <td>0.725273</td>\n",
       "    </tr>\n",
       "    <tr>\n",
       "      <th>review_aroma</th>\n",
       "      <td>0.534244</td>\n",
       "      <td>0.706156</td>\n",
       "      <td>0.783002</td>\n",
       "      <td>0.725273</td>\n",
       "      <td>1.000000</td>\n",
       "    </tr>\n",
       "  </tbody>\n",
       "</table>\n",
       "</div>"
      ],
      "text/plain": [
       "                   review_appearance  review_palette  review_overall  \\\n",
       "review_appearance           1.000000        0.547691        0.486687   \n",
       "review_palette              0.547691        1.000000        0.601971   \n",
       "review_overall              0.486687        0.601971        1.000000   \n",
       "review_taste                0.554775        0.604271        0.692454   \n",
       "review_aroma                0.534244        0.706156        0.783002   \n",
       "\n",
       "                   review_taste  review_aroma  \n",
       "review_appearance      0.554775      0.534244  \n",
       "review_palette         0.604271      0.706156  \n",
       "review_overall         0.692454      0.783002  \n",
       "review_taste           1.000000      0.725273  \n",
       "review_aroma           0.725273      1.000000  "
      ]
     },
     "execution_count": 231,
     "metadata": {},
     "output_type": "execute_result"
    }
   ],
   "source": [
    "corr"
   ]
  },
  {
   "cell_type": "code",
   "execution_count": 233,
   "metadata": {},
   "outputs": [
    {
     "data": {
      "text/plain": [
       "<matplotlib.axes._subplots.AxesSubplot at 0x2aae2826748>"
      ]
     },
     "execution_count": 233,
     "metadata": {},
     "output_type": "execute_result"
    },
    {
     "data": {
      "image/png": "[encoded data removed]",
      "text/plain": [
       "<Figure size 432x288 with 2 Axes>"
      ]
     },
     "metadata": {},
     "output_type": "display_data"
    }
   ],
   "source": [
    "sns.heatmap(corr, \n",
    "            xticklabels=corr.columns,\n",
    "            yticklabels=corr.columns,\n",
    "            cmap='RdBu_r',\n",
    "            annot=True,\n",
    "            linewidth=0.5)"
   ]
  },
  {
   "cell_type": "markdown",
   "metadata": {},
   "source": [
    "#### Looking at the spearman rank correlation"
   ]
  },
  {
   "cell_type": "code",
   "execution_count": 235,
   "metadata": {},
   "outputs": [
    {
     "data": {
      "text/html": [
       "<div>\n",
       "<style scoped>\n",
       "    .dataframe tbody tr th:only-of-type {\n",
       "        vertical-align: middle;\n",
       "    }\n",
       "\n",
       "    .dataframe tbody tr th {\n",
       "        vertical-align: top;\n",
       "    }\n",
       "\n",
       "    .dataframe thead th {\n",
       "        text-align: right;\n",
       "    }\n",
       "</style>\n",
       "<table border=\"1\" class=\"dataframe\">\n",
       "  <thead>\n",
       "    <tr style=\"text-align: right;\">\n",
       "      <th></th>\n",
       "      <th>review_appearance</th>\n",
       "      <th>review_palette</th>\n",
       "      <th>review_overall</th>\n",
       "      <th>review_taste</th>\n",
       "      <th>review_aroma</th>\n",
       "    </tr>\n",
       "  </thead>\n",
       "  <tbody>\n",
       "    <tr>\n",
       "      <th>review_appearance</th>\n",
       "      <td>1.000000</td>\n",
       "      <td>0.490674</td>\n",
       "      <td>0.445731</td>\n",
       "      <td>0.508758</td>\n",
       "      <td>0.487259</td>\n",
       "    </tr>\n",
       "    <tr>\n",
       "      <th>review_palette</th>\n",
       "      <td>0.490674</td>\n",
       "      <td>1.000000</td>\n",
       "      <td>0.546180</td>\n",
       "      <td>0.555853</td>\n",
       "      <td>0.661632</td>\n",
       "    </tr>\n",
       "    <tr>\n",
       "      <th>review_overall</th>\n",
       "      <td>0.445731</td>\n",
       "      <td>0.546180</td>\n",
       "      <td>1.000000</td>\n",
       "      <td>0.644555</td>\n",
       "      <td>0.722144</td>\n",
       "    </tr>\n",
       "    <tr>\n",
       "      <th>review_taste</th>\n",
       "      <td>0.508758</td>\n",
       "      <td>0.555853</td>\n",
       "      <td>0.644555</td>\n",
       "      <td>1.000000</td>\n",
       "      <td>0.680268</td>\n",
       "    </tr>\n",
       "    <tr>\n",
       "      <th>review_aroma</th>\n",
       "      <td>0.487259</td>\n",
       "      <td>0.661632</td>\n",
       "      <td>0.722144</td>\n",
       "      <td>0.680268</td>\n",
       "      <td>1.000000</td>\n",
       "    </tr>\n",
       "  </tbody>\n",
       "</table>\n",
       "</div>"
      ],
      "text/plain": [
       "                   review_appearance  review_palette  review_overall  \\\n",
       "review_appearance           1.000000        0.490674        0.445731   \n",
       "review_palette              0.490674        1.000000        0.546180   \n",
       "review_overall              0.445731        0.546180        1.000000   \n",
       "review_taste                0.508758        0.555853        0.644555   \n",
       "review_aroma                0.487259        0.661632        0.722144   \n",
       "\n",
       "                   review_taste  review_aroma  \n",
       "review_appearance      0.508758      0.487259  \n",
       "review_palette         0.555853      0.661632  \n",
       "review_overall         0.644555      0.722144  \n",
       "review_taste           1.000000      0.680268  \n",
       "review_aroma           0.680268      1.000000  "
      ]
     },
     "execution_count": 235,
     "metadata": {},
     "output_type": "execute_result"
    }
   ],
   "source": [
    "scorr = review_df.corr(method = 'spearman')\n",
    "scorr"
   ]
  },
  {
   "cell_type": "code",
   "execution_count": 236,
   "metadata": {},
   "outputs": [
    {
     "data": {
      "text/plain": [
       "<matplotlib.axes._subplots.AxesSubplot at 0x2aaa63ddeb8>"
      ]
     },
     "execution_count": 236,
     "metadata": {},
     "output_type": "execute_result"
    },
    {
     "data": {
      "image/png": "[encoded data removed]",
      "text/plain": [
       "<Figure size 432x288 with 2 Axes>"
      ]
     },
     "metadata": {},
     "output_type": "display_data"
    }
   ],
   "source": [
    "sns.heatmap(scorr, \n",
    "            xticklabels=corr.columns,\n",
    "            yticklabels=corr.columns,\n",
    "            cmap='RdBu_r',\n",
    "            annot=True,\n",
    "            linewidth=0.5)"
   ]
  },
  {
   "cell_type": "markdown",
   "metadata": {},
   "source": [
    "#### Applying the correlation gives review_aroma is the most important."
   ]
  },
  {
   "cell_type": "markdown",
   "metadata": {},
   "source": [
    "### Method2 : Though applying the correlation gives us the result . Need to cross verify with the OLS method"
   ]
  },
  {
   "cell_type": "code",
   "execution_count": 228,
   "metadata": {},
   "outputs": [
    {
     "name": "stdout",
     "output_type": "stream",
     "text": [
      "                            OLS Regression Results                            \n",
      "==============================================================================\n",
      "Dep. Variable:         review_overall   R-squared:                       0.988\n",
      "Model:                            OLS   Adj. R-squared:                  0.988\n",
      "Method:                 Least Squares   F-statistic:                 1.093e+07\n",
      "Date:                Thu, 26 Dec 2019   Prob (F-statistic):               0.00\n",
      "Time:                        16:59:50   Log-Likelihood:            -2.9936e+05\n",
      "No. Observations:              528870   AIC:                         5.987e+05\n",
      "Df Residuals:                  528866   BIC:                         5.988e+05\n",
      "Df Model:                           4                                         \n",
      "Covariance Type:            nonrobust                                         \n",
      "=====================================================================================\n",
      "                        coef    std err          t      P>|t|      [0.025      0.975]\n",
      "-------------------------------------------------------------------------------------\n",
      "review_aroma          0.5591      0.001    410.748      0.000       0.556       0.562\n",
      "review_appearance     0.0938      0.001     85.249      0.000       0.092       0.096\n",
      "review_palette        0.0670      0.001     53.544      0.000       0.065       0.069\n",
      "review_taste          0.2856      0.001    217.157      0.000       0.283       0.288\n",
      "==============================================================================\n",
      "Omnibus:                    28737.963   Durbin-Watson:                   1.729\n",
      "Prob(Omnibus):                  0.000   Jarque-Bera (JB):           118771.151\n",
      "Skew:                          -0.003   Prob(JB):                         0.00\n",
      "Kurtosis:                       5.322   Cond. No.                         22.5\n",
      "==============================================================================\n",
      "\n",
      "Warnings:\n",
      "[1] Standard Errors assume that the covariance matrix of the errors is correctly specified.\n"
     ]
    }
   ],
   "source": [
    "from statsmodels.api import OLS\n",
    "x = review_df[['review_aroma', 'review_appearance','review_palette', 'review_taste']]\n",
    "y = review_df[['review_overall']]\n",
    "model = OLS(y, x)\n",
    "result = model.fit()\n",
    "print(result.summary())"
   ]
  },
  {
   "cell_type": "markdown",
   "metadata": {},
   "source": [
    "#### Looking at the coef value , interpretation is confirming that these dependent variables having positive corelation with the independent variable . The second value of the coefficient denotes expected change in independent variable for 1 unit change in dependent variable.\n",
    "#### Going by these two methods we can conclude that review_aroma is the most important."
   ]
  },
  {
   "cell_type": "markdown",
   "metadata": {},
   "source": [
    "### Q4 4.If you were to recommend 3 beers to your friends based on this data which ones will you recommend?"
   ]
  },
  {
   "cell_type": "code",
   "execution_count": 237,
   "metadata": {},
   "outputs": [],
   "source": [
    "from IPython.display import display,HTML\n",
    "th_props = [\n",
    "  ('font-size', '15px'),\n",
    "  ('text-align', 'center'),\n",
    "  ('font-weight', 'bold'),\n",
    "  ('color', '#DF6002'),\n",
    "  ('background-color', '#F6D08A'),\n",
    "  ('border-style','solid')\n",
    "  ]\n",
    "td_props = [\n",
    "  ('font-size', '12px'),\n",
    "  ('font-weight', 'bold'),\n",
    "#   ('background-color', '#F8E7B9'),\n",
    "  ('text-align', 'center'),\n",
    "  ('border-style','dotted')\n",
    "  ]\n",
    "styles = [\n",
    "   dict(selector=\"tr:hover\",props=[(\"background-color\", \"#ffff99\")]),\n",
    "  dict(selector=\"th\", props=th_props),\n",
    "  dict(selector=\"td\", props=td_props)\n",
    "  ]"
   ]
  },
  {
   "cell_type": "markdown",
   "metadata": {},
   "source": [
    "#### 3 stratigies that i can think of is :1. people tend to have Beer whose ABV vary between 4 and 10 percent , but doing so around 20 percent of data loss , so keeping the value in the range of 4 and 12 percent."
   ]
  },
  {
   "cell_type": "code",
   "execution_count": 238,
   "metadata": {},
   "outputs": [
    {
     "name": "stdout",
     "output_type": "stream",
     "text": [
      "1. Beers ABV% is between 4% to 12% (Fig. 2.1)\n"
     ]
    }
   ],
   "source": [
    "# get a list of beers whose ABV% is between 4% to 12%\n",
    "lower_abv,higher_abv = 4,12\n",
    "cond1_beers = df.where(df['beer_ABV']>=lower_abv).where(df['beer_ABV']<=higher_abv)\n",
    "print(\"1. Beers ABV% is between {}% to {}% (Fig. 2.1)\".format(lower_abv,higher_abv))"
   ]
  },
  {
   "cell_type": "code",
   "execution_count": 239,
   "metadata": {},
   "outputs": [
    {
     "data": {
      "text/plain": [
       "Text(0.5,1,'Figure 2.1\\nHow ABV% is distributed in data?')"
      ]
     },
     "execution_count": 239,
     "metadata": {},
     "output_type": "execute_result"
    },
    {
     "data": {
      "image/png": "[encoded data removed]",
      "text/plain": [
       "<Figure size 1440x432 with 1 Axes>"
      ]
     },
     "metadata": {},
     "output_type": "display_data"
    }
   ],
   "source": [
    "# plot\n",
    "fig2 = plt.figure(figsize=(20, 6))\n",
    "# Figure 2.1\n",
    "ax2_1 = fig2.add_subplot(131)\n",
    "ratios = [df.where(df['beer_ABV']<lower_abv)[['beer_brewerId','beer_name']].dropna().shape[0]/np.float(df.shape[0]),\\\n",
    "          cond1_beers.dropna().shape[0]/np.float(df.shape[0]),\\\n",
    "          df.where(df['beer_ABV']>higher_abv)[['beer_brewerId','beer_name']].dropna().shape[0]/np.float(df.shape[0])]\n",
    "labels = ['Below 4%', '4% - 12%', 'Above 12%']\n",
    "explode = [0, 0.1, 0]\n",
    "# rotate so that first wedge is split by the x-axis\n",
    "angle = -270 * ratios[1]\n",
    "ax2_1.pie(ratios, autopct='%1.1f%%', startangle=angle,\n",
    "        labels=labels, explode=explode)\n",
    "ax2_1.set_title('Figure 2.1\\nHow ABV% is distributed in data?',fontsize=15)"
   ]
  },
  {
   "cell_type": "markdown",
   "metadata": {},
   "source": [
    "#### review count is more than 90 percentile of the whole data, also mean of overall review greater than 70 percent .assumption is Best beer will have reviews on higher side also the rating mean will be definetly more than 90 percentile.\n",
    "#### Also we can do hit and trails to come up with the optimum value as the p2_c and p2_m can be assigned different values."
   ]
  },
  {
   "cell_type": "code",
   "execution_count": 243,
   "metadata": {},
   "outputs": [
    {
     "name": "stdout",
     "output_type": "stream",
     "text": [
      "2. Popular beers whose number of reviews is 90th percentile and review overall score is 70th percentile (Fig. 2.2)\n",
      "                                                           mean   count\n",
      "beer_brewerId beer_name                          beer_ABV              \n",
      "1             Gambrinus                          5.0       3.75    46.0\n",
      "              Pilsner Urquell                    4.4       3.83  1257.0\n",
      "3             20th Anniversary Pilsner           5.0       4.16    88.0\n",
      "              25th Anniversary Vanilla Doubledog 7.0       3.53   101.0\n",
      "              Abbey Ale                          8.0       3.62   189.0\n",
      "   beer_brewerId                    beer_name  beer_ABV  mean  count\n",
      "0              3     20th Anniversary Pilsner       5.0  4.16   88.0\n",
      "1              5  Bert Grant's Perfect Porter       4.0  4.05  121.0\n",
      "2             10                    Old Izaak       5.0  4.06   48.0\n",
      "3             14                  Big Man Ale       6.8  4.14   35.0\n",
      "4             14      Blunderbuss Barley Wine      11.5  4.19   39.0\n"
     ]
    }
   ],
   "source": [
    "# get a list of beers whose review count is higher than the data population average\n",
    "p2_c,p2_m=90,70\n",
    "aggregated2 = df.reset_index().groupby(['beer_brewerId','beer_name','beer_ABV'])['review_overall'].agg({'count','mean'}).round(2)\n",
    "threshold2_c,threshold2_m = np.percentile(aggregated2['count'],p2_c),np.percentile(aggregated2['mean'],p2_m)\n",
    "aggregated2 = aggregated2.where(aggregated2['count']>threshold2_c).dropna()\n",
    "cond2_beers = aggregated2.where(aggregated2['mean']>threshold2_m ).dropna().reset_index()\n",
    "print(aggregated2.head(5))\n",
    "print(cond2_beers.head(5))\n"
   ]
  },
  {
   "cell_type": "code",
   "execution_count": 247,
   "metadata": {},
   "outputs": [
    {
     "name": "stdout",
     "output_type": "stream",
     "text": [
      "3. Most reputational brewery whose review overall score is 90th percentile and number of reviews is above average (Fig. 2.3)\n",
      "               mean    count\n",
      "beer_brewerId               \n",
      "1              3.82   1357.0\n",
      "3              3.56   5357.0\n",
      "5              3.65    728.0\n",
      "14             4.05   1202.0\n",
      "22             4.03  13921.0\n"
     ]
    },
    {
     "data": {
      "text/plain": [
       "Int64Index([   14,    22,    37,    73,    76,    83,   113,   140,   176,\n",
       "              207,   215,   264,   357,   388,   396,   590,   607,   610,\n",
       "              681,   694,   911,  1177,  1199,  1923,  4663, 10485, 11977,\n",
       "            14064, 16353, 17981, 20681, 24018, 27039],\n",
       "           dtype='int64', name='beer_brewerId')"
      ]
     },
     "execution_count": 247,
     "metadata": {},
     "output_type": "execute_result"
    }
   ],
   "source": [
    "# get a list of reputational brewery that have above-average review counts (popularity) and its \n",
    "# average review scores is among the top 10% in the population \n",
    "p3 = 90\n",
    "aggregated3 = df.groupby(['beer_brewerId'])['review_overall'].agg({\"mean\",\"count\"}).round(2)\n",
    "threshold3_c,threshold3_m = np.mean(aggregated3['count']),np.percentile(aggregated3['mean'],p3)\n",
    "aggregated3 = aggregated3.where(aggregated3['count']>threshold3_c).dropna()\n",
    "reputational_brewery = aggregated3.where(aggregated3['mean']>threshold3_m ).dropna().index\n",
    "print(\"3. Most reputational brewery whose review overall score is {}th percentile and number of reviews is above average (Fig. 2.3)\".format(p3))\n",
    "print(aggregated3.head(5))\n",
    "reputational_brewery"
   ]
  },
  {
   "cell_type": "markdown",
   "metadata": {},
   "source": [
    "#### Using the above generated values to recommend the beer .\n",
    "#### use the previously sorted list from condition 2 (cond2_beers) to select the first (highest in review overall score) 3 beers that satistify all conditions above"
   ]
  },
  {
   "cell_type": "code",
   "execution_count": 248,
   "metadata": {},
   "outputs": [
    {
     "name": "stdout",
     "output_type": "stream",
     "text": [
      "\n",
      "--------------------------------------------------------------------------------------------\n",
      "\n",
      "Generating the list of best beers and selecting top 3 beers (based on review score):\n",
      "\n",
      "Best Beer No.1 : Heady Topper (27039)\n",
      "Best Beer No.2 : Citra DIPA (14064)\n",
      "Best Beer No.3 : Cantillon Blåbær Lambik (388)\n",
      "\n",
      "Table 2.1\n"
     ]
    },
    {
     "data": {
      "text/html": [
       "<style  type=\"text/css\" >\n",
       "    #T_c47e6750_27e6_11ea_8402_38afd739056f tr:hover {\n",
       "          background-color: #ffff99;\n",
       "    }    #T_c47e6750_27e6_11ea_8402_38afd739056f th {\n",
       "          font-size: 15px;\n",
       "          text-align: center;\n",
       "          font-weight: bold;\n",
       "          color: #DF6002;\n",
       "          background-color: #F6D08A;\n",
       "          border-style: solid;\n",
       "    }    #T_c47e6750_27e6_11ea_8402_38afd739056f td {\n",
       "          font-size: 12px;\n",
       "          font-weight: bold;\n",
       "          text-align: center;\n",
       "          border-style: dotted;\n",
       "    }    #T_c47e6750_27e6_11ea_8402_38afd739056frow0_col0 {\n",
       "            background:  yellow;\n",
       "        }    #T_c47e6750_27e6_11ea_8402_38afd739056frow0_col1 {\n",
       "            background:  yellow;\n",
       "        }    #T_c47e6750_27e6_11ea_8402_38afd739056frow0_col2 {\n",
       "            background:  yellow;\n",
       "        }    #T_c47e6750_27e6_11ea_8402_38afd739056frow0_col3 {\n",
       "            background:  yellow;\n",
       "        }</style>  \n",
       "<table id=\"T_c47e6750_27e6_11ea_8402_38afd739056f\" > \n",
       "<thead>    <tr> \n",
       "        <th class=\"blank level0\" ></th> \n",
       "        <th class=\"col_heading level0 col0\" >Beer</th> \n",
       "        <th class=\"col_heading level0 col1\" >Brewery</th> \n",
       "        <th class=\"col_heading level0 col2\" >Review Score (Overall)</th> \n",
       "        <th class=\"col_heading level0 col3\" >Beer ABV%</th> \n",
       "    </tr></thead> \n",
       "<tbody>    <tr> \n",
       "        <th id=\"T_c47e6750_27e6_11ea_8402_38afd739056flevel0_row0\" class=\"row_heading level0 row0\" >0</th> \n",
       "        <td id=\"T_c47e6750_27e6_11ea_8402_38afd739056frow0_col0\" class=\"data row0 col0\" >Heady Topper</td> \n",
       "        <td id=\"T_c47e6750_27e6_11ea_8402_38afd739056frow0_col1\" class=\"data row0 col1\" >27039</td> \n",
       "        <td id=\"T_c47e6750_27e6_11ea_8402_38afd739056frow0_col2\" class=\"data row0 col2\" >4.63</td> \n",
       "        <td id=\"T_c47e6750_27e6_11ea_8402_38afd739056frow0_col3\" class=\"data row0 col3\" >8</td> \n",
       "    </tr>    <tr> \n",
       "        <th id=\"T_c47e6750_27e6_11ea_8402_38afd739056flevel0_row1\" class=\"row_heading level0 row1\" >1</th> \n",
       "        <td id=\"T_c47e6750_27e6_11ea_8402_38afd739056frow1_col0\" class=\"data row1 col0\" >Citra DIPA</td> \n",
       "        <td id=\"T_c47e6750_27e6_11ea_8402_38afd739056frow1_col1\" class=\"data row1 col1\" >14064</td> \n",
       "        <td id=\"T_c47e6750_27e6_11ea_8402_38afd739056frow1_col2\" class=\"data row1 col2\" >4.63</td> \n",
       "        <td id=\"T_c47e6750_27e6_11ea_8402_38afd739056frow1_col3\" class=\"data row1 col3\" >8</td> \n",
       "    </tr>    <tr> \n",
       "        <th id=\"T_c47e6750_27e6_11ea_8402_38afd739056flevel0_row2\" class=\"row_heading level0 row2\" >2</th> \n",
       "        <td id=\"T_c47e6750_27e6_11ea_8402_38afd739056frow2_col0\" class=\"data row2 col0\" >Cantillon Blåbær Lambik</td> \n",
       "        <td id=\"T_c47e6750_27e6_11ea_8402_38afd739056frow2_col1\" class=\"data row2 col1\" >388</td> \n",
       "        <td id=\"T_c47e6750_27e6_11ea_8402_38afd739056frow2_col2\" class=\"data row2 col2\" >4.63</td> \n",
       "        <td id=\"T_c47e6750_27e6_11ea_8402_38afd739056frow2_col3\" class=\"data row2 col3\" >5</td> \n",
       "    </tr></tbody> \n",
       "</table> "
      ],
      "text/plain": [
       "<pandas.io.formats.style.Styler at 0x2aaa4f1fcc0>"
      ]
     },
     "metadata": {},
     "output_type": "display_data"
    }
   ],
   "source": [
    "print(\"\\n--------------------------------------------------------------------------------------------\\n\\nGenerating the list of best beers and selecting top 3 beers (based on review score):\\n\")\n",
    "# use the previously sorted list from condition 2 (cond2_beers) to select the first (highest in review overall score) 3 beers that satistify all conditions above\n",
    "beers = cond2_beers.reset_index().sort_values(by=['mean','count'],ascending=False)\n",
    "recommenedBeers = []\n",
    "recommenedBeersDF = pd.DataFrame(columns=['Beer','Brewery','Review Score (Overall)','Beer ABV%'])\n",
    "x = len(recommenedBeers)\n",
    "idx = 0\n",
    "while x != 3 and idx <= beers.shape[0]-1:\n",
    "    beer = beers.reset_index().loc[idx,'beer_name']\n",
    "    brewery = beers.reset_index().loc[idx,'beer_brewerId']\n",
    "    if brewery in reputational_brewery and beer in cond1_beers['beer_name'].unique():\n",
    "        s = \"{} ({})\".format(beer,brewery)\n",
    "        print(\"Best Beer No.{} : {}\".format(x+1,s))\n",
    "        recommenedBeers.append(s)\n",
    "        recommenedBeersDF.loc[x,:]=np.array(beers.reset_index().loc[idx,['beer_name','beer_brewerId','mean','beer_ABV']])\n",
    "        x = len(recommenedBeers)\n",
    "        \n",
    "    idx += 1\n",
    "# Visualizing the output table\n",
    "\n",
    "print(\"\\nTable 2.1\")\n",
    "display(recommenedBeersDF.style.set_table_styles(styles).apply(lambda x : ['background: yellow' if x.name == 0 else '' for i in x],axis=1))"
   ]
  },
  {
   "cell_type": "code",
   "execution_count": null,
   "metadata": {},
   "outputs": [],
   "source": []
  }
 ],
 "metadata": {
  "kernelspec": {
   "display_name": "Python 3",
   "language": "python",
   "name": "python3"
  },
  "language_info": {
   "codemirror_mode": {
    "name": "ipython",
    "version": 3
   },
   "file_extension": ".py",
   "mimetype": "text/x-python",
   "name": "python",
   "nbconvert_exporter": "python",
   "pygments_lexer": "ipython3",
   "version": "3.6.5"
  }
 },
 "nbformat": 4,
 "nbformat_minor": 2
}
